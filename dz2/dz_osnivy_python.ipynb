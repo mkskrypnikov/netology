{
 "cells": [
  {
   "cell_type": "markdown",
   "metadata": {},
   "source": [
    "# Домашнее задание к лекции \"Основы Python\""
   ]
  },
  {
   "cell_type": "markdown",
   "metadata": {},
   "source": [
    "# Задание 1"
   ]
  },
  {
   "cell_type": "markdown",
   "metadata": {},
   "source": [
    "Даны 2 переменных, в которых хранятся строки произвольной длины: phrase_1 и phrase_2.\n",
    "Напишите код, который проверяет какая из этих строк длиннее.\n",
    "\n",
    "Примеры работы программы:\n",
    "\n",
    "phrase_1 = 'Насколько проще было бы писать программы, если бы не заказчики'\n",
    "\n",
    "phrase_2 = '640Кб должно хватить для любых задач. Билл Гейтс (по легенде)'\n",
    "\n",
    "Результат:\n",
    "Фраза 1 длиннее фразы 2\n",
    "\n",
    "\n",
    "phrase_1 = '640Кб должно хватить для любых задач. Билл Гейтс (по легенде)'\n",
    "\n",
    "phrase_2 = 'Насколько проще было бы писать программы, если бы не заказчики'\n",
    "\n",
    "Результат:\n",
    "Фраза 2 длиннее фразы 1\n",
    "\n",
    "phrase_1 = 'Насколько проще было бы писать программы, если бы не заказчики'\n",
    "\n",
    "phrase_2 = 'Насколько проще было бы писать программы, если бы не заказчики'\n",
    "\n",
    "Результат:\n",
    "Фразы равной длины"
   ]
  },
  {
   "cell_type": "code",
   "execution_count": 1,
   "metadata": {},
   "outputs": [
    {
     "name": "stdout",
     "output_type": "stream",
     "text": [
      "Фраза 1 длинее фразы 2\n"
     ]
    }
   ],
   "source": [
    "phrase_1 = 'Насколько проще было бы писать программы, если бы не заказчики'\n",
    "\n",
    "phrase_2 = '640Кб должно хватить для любых задач. Билл Гейтс (по легенде)'\n",
    "\n",
    "if len(phrase_1)>len(phrase_2):\n",
    "    print('Фраза 1 длинее фразы 2')\n",
    "elif len(phrase_1)<len(phrase_2):\n",
    "    print('Фраза 2 длиннее фразы 1')\n",
    "else:\n",
    "    print('Фразы равной длины')"
   ]
  },
  {
   "cell_type": "markdown",
   "metadata": {},
   "source": [
    "# Задание 2"
   ]
  },
  {
   "cell_type": "markdown",
   "metadata": {},
   "source": [
    "Дана переменная, в которой хранится четырехзначное число (год). Необходимо написать программу, которая выведет, является ли данный год високосным или обычным.\n",
    "\n",
    "Пример работы программы:\n",
    "\n",
    "year = 2020\n",
    "Результат:\n",
    "Високосный год\n",
    "\n",
    "year = 2019\n",
    "Результат:\n",
    "Обычный год"
   ]
  },
  {
   "cell_type": "code",
   "execution_count": 2,
   "metadata": {},
   "outputs": [
    {
     "name": "stdout",
     "output_type": "stream",
     "text": [
      "Високосный год\n"
     ]
    }
   ],
   "source": [
    "year = 2020\n",
    "if year % 4 != 0 or (year % 100 == 0 and year % 400 != 0):\n",
    "    print(\"Обычный год\")\n",
    "else:\n",
    "    print(\"Високосный год\")"
   ]
  },
  {
   "cell_type": "markdown",
   "metadata": {},
   "source": [
    "# Задание 3"
   ]
  },
  {
   "cell_type": "markdown",
   "metadata": {},
   "source": [
    "Необходимо написать программу, которая будет запрашивать у пользователя месяц и дату рождения и выводить соответствующий знак зодиака.\n",
    "\n",
    "Пример работы программы:\n",
    "\n",
    "Введите день:\n",
    "30\n",
    "\n",
    "Введите месяц:\n",
    "Август\n",
    "Результат:\n",
    "Ваш знак зодиака: Дева\n",
    "\n",
    "Введите день:\n",
    "29\n",
    "\n",
    "Введите месяц:\n",
    "Октябрь\n",
    "Результат:\n",
    "Ваш знак зодиака: Скорпион"
   ]
  },
  {
   "cell_type": "code",
   "execution_count": 3,
   "metadata": {},
   "outputs": [
    {
     "name": "stdout",
     "output_type": "stream",
     "text": [
      "Введите день:30\n",
      "Введите месяц:август\n",
      "Ваш знак зодиака: Дева\n"
     ]
    }
   ],
   "source": [
    "day = input('Введите день:')\n",
    "month = input('Введите месяц:')\n",
    "zodiak =''\n",
    "if (month.lower() == \"март\" and int(day)>=21) or (month.lower() == \"апрель\" and int(day)<=20):\n",
    "    zodiak = 'Овен'\n",
    "elif (month.lower() == \"апрель\" and int(day)>=21) or (month.lower() == \"май\" and int(day)<=21):\n",
    "    zodiak = 'Телец'\n",
    "elif (month.lower() == \"май\" and int(day)>=22) or (month.lower() == \"июнь\" and int(day)<=21):\n",
    "    zodiak = 'Близнец'\n",
    "elif (month.lower() == \"июнь\" and int(day)>=22) or (month.lower() == \"июль\" and int(day)<=22):\n",
    "    zodiak = 'Рак'\n",
    "elif (month.lower() == \"июль\" and int(day)>=23) or (month.lower() == \"август\" and int(day)<=23):\n",
    "    zodiak = 'Лев'\n",
    "elif (month.lower() == \"август\" and int(day)>=24) or (month.lower() == \"сентябрь\" and int(day)<=23):\n",
    "    zodiak = 'Дева'\n",
    "elif (month.lower() == \"сентябрь\" and int(day)>=24) or (month.lower() == \"октябрь\" and int(day)<=23):\n",
    "    zodiak = 'Весы'\n",
    "elif (month.lower() == \"октябрь\" and int(day)>=24) or (month.lower() == \"ноябрь\" and int(day)<=22):\n",
    "    zodiak = 'Скорпион'\n",
    "elif (month.lower() == \"ноябрь\" and int(day)>=23) or (month.lower() == \"декабрь\" and int(day)<=22):\n",
    "    zodiak = 'Стрелец'\n",
    "elif (month.lower() == \"декабрь\" and int(day)>=23) or (month.lower() == \"январь\" and int(day)<=20):\n",
    "    zodiak = 'Козерог'\n",
    "elif (month.lower() == \"январь\" and int(day)>=21) or (month.lower() == \"февраль\" and int(day)<=19):\n",
    "    zodiak = 'Водолей'\n",
    "elif (month.lower() == \"февраль\" and int(day)>=20) or (month.lower() == \"март\" and int(day)<=20):\n",
    "    zodiak = 'Рыбы'\n",
    "print('Ваш знак зодиака: ' + zodiak)"
   ]
  },
  {
   "cell_type": "markdown",
   "metadata": {},
   "source": [
    "# Задание 4"
   ]
  },
  {
   "cell_type": "markdown",
   "metadata": {},
   "source": [
    "Вам нужно написать программу для подбора упаковок по размерам товара. Размеры хранятся в переменных (в сантиметрах):\n",
    "\n",
    "width = 10\n",
    "length = 205\n",
    "height = 5\n",
    "Используйте следующие правила:\n",
    "\n",
    "если каждое из трех измерений менее 15 сантиметров, то выведите на экран \"Коробка №1\";\n",
    "если хотя бы одно из измерений больше 15 сантиметров, но менее 50 сантиметров, то выводите \"Коробка №2\";\n",
    "если длина товара больше 2 метров, то выводите \"Упаковка для лыж\";\n",
    "во всех остальных случаях выводите \"Стандартная коробка №3\"."
   ]
  },
  {
   "cell_type": "code",
   "execution_count": 4,
   "metadata": {},
   "outputs": [
    {
     "name": "stdout",
     "output_type": "stream",
     "text": [
      "Упаковка для лыж\n"
     ]
    }
   ],
   "source": [
    "width = 10\n",
    "length = 205\n",
    "height = 5\n",
    "if width < 15 and length <15 and height <15:\n",
    "    print('Коробока №1')\n",
    "elif (width > 15 and width < 50) or (length > 15 and length < 50) or (height > 15 and height < 50):\n",
    "    print('Коробка №2')\n",
    "elif length > 200:\n",
    "    print('Упаковка для лыж')\n",
    "else:\n",
    "    print('Стандартная коробка №3')"
   ]
  },
  {
   "cell_type": "markdown",
   "metadata": {},
   "source": [
    "# Задание 5 (необязательное)"
   ]
  },
  {
   "cell_type": "markdown",
   "metadata": {},
   "source": [
    "Дана переменная, в которой хранится шестизначное число (номер проездного билета). Напишите программу, которая будет определять, является ли данный билет \"счастливым\". Билет считается счастливым, если сумма первых трех цифр совпадает с суммой последних трех цифр номера.\n",
    "\n",
    "Примеры работы программы:\n",
    "\n",
    "number = 123456\n",
    "Результат:\n",
    "Неасчастливый билет\n",
    "\n",
    "number = 123321\n",
    "Результат:\n",
    "Счастливый билет"
   ]
  },
  {
   "cell_type": "code",
   "execution_count": 5,
   "metadata": {},
   "outputs": [
    {
     "name": "stdout",
     "output_type": "stream",
     "text": [
      "Счастливый билет\n"
     ]
    }
   ],
   "source": [
    "number = 123321\n",
    "slogaemye = list(str(number))\n",
    "first = int(slogaemye[0])+int(slogaemye[1])+int(slogaemye[2])\n",
    "second = int(slogaemye[3])+int(slogaemye[4])+int(slogaemye[5])\n",
    "if first == second:\n",
    "    print('Счастливый билет')\n",
    "else:\n",
    "    print('Несчастливый билет')"
   ]
  },
  {
   "cell_type": "markdown",
   "metadata": {},
   "source": [
    "\n",
    "# Задание 6 (необязательное)"
   ]
  },
  {
   "cell_type": "markdown",
   "metadata": {},
   "source": [
    "Напишите программу, которая сможет вычислять площади трех фигур (круг, треугольник и прямоугольник). Тип фигуры запрашиваем через пользовательский ввод, после чего делаем запрос характеристик фигуры:\n",
    "\n",
    "если пользователь выбрал круг, запрашиваем его радиус,\n",
    "если треугольник – длины трех его сторон;\n",
    "если прямоугольник – длины двух его сторон.\n",
    "Пример работы программы:\n",
    "\n",
    "Введите тип фигуры:\n",
    "Круг\n",
    "\n",
    "Введите радиус круга:\n",
    "10\n",
    "Результат:\n",
    "Площадь круга: 314.16\n",
    "\n",
    "Введите тип фигуры:\n",
    "Треугольник\n",
    "\n",
    "Введите длину стороны A:\n",
    "2\n",
    "\n",
    "Введите длину стороны B:\n",
    "2\n",
    "\n",
    "Введите длину стороны C:\n",
    "3\n",
    "Результат:\n",
    "Площадь треугольника: 1.98"
   ]
  },
  {
   "cell_type": "code",
   "execution_count": 6,
   "metadata": {},
   "outputs": [
    {
     "name": "stdout",
     "output_type": "stream",
     "text": [
      "Введите тип фигуры: круг\n",
      "Введите радиус круга: 10\n",
      "Площадь круга: 314.16\n"
     ]
    }
   ],
   "source": [
    "figura = input('Введите тип фигуры: ')\n",
    "if figura.lower() == \"круг\":\n",
    "    radius = int(input('Введите радиус круга: '))\n",
    "    s = 3.1416*int(radius)**2\n",
    "elif figura.lower() == \"треугольник\":\n",
    "    treugolnik_a = int(input('Введите длину стороны A: '))\n",
    "    treugolnik_b = int(input('Введите длину стороны B: '))\n",
    "    treugolnik_c = int(input('Введите длину стороны C: '))\n",
    "    p = (treugolnik_a + treugolnik_b + treugolnik_c)/2\n",
    "    s = (p * (p - treugolnik_a)*(p - treugolnik_b)*(p - treugolnik_c))**0.5\n",
    "elif figura.lower() == \"прямоугольник\":\n",
    "    kvadrat_a = int(input('Введите длину стороны A: '))\n",
    "    kvadrat_b = int(input('Введите длину стороны B: '))\n",
    "    s = kvadrat_a  * kvadrat_b\n",
    "print('{}{}{}{:.2f}'.format('Площадь ', figura, 'а: ', s))\n"
   ]
  }
 ],
 "metadata": {
  "kernelspec": {
   "display_name": "Python 3",
   "language": "python",
   "name": "python3"
  },
  "language_info": {
   "codemirror_mode": {
    "name": "ipython",
    "version": 3
   },
   "file_extension": ".py",
   "mimetype": "text/x-python",
   "name": "python",
   "nbconvert_exporter": "python",
   "pygments_lexer": "ipython3",
   "version": "3.7.6"
  }
 },
 "nbformat": 4,
 "nbformat_minor": 4
}
