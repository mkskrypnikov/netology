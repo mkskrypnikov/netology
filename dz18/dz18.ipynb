{
 "cells": [
  {
   "cell_type": "code",
   "execution_count": 1,
   "metadata": {},
   "outputs": [],
   "source": [
    "import numpy as np"
   ]
  },
  {
   "cell_type": "markdown",
   "metadata": {},
   "source": [
    "Смоделировать игру против лотерейного автомата типа \"777\". Игрок платит 1 руб., \n",
    "после чего выпадает случайное целое число, равномерно распределенное от 0 до 999. \n",
    "При некоторых значениях числа игрок получает выигрыш (см. справа)\n",
    "\n",
    "●Выгодна ли игра игроку? \n",
    "\n",
    "●Сколько в среднем приобретает или теряет игрок за одну игру?\n",
    "\n",
    "777: 200 руб.\n",
    "999: 100 руб.\n",
    "555: 50 руб.\n",
    "333: 15 руб.\n",
    "111: 10 руб.\n",
    "*77: 5 руб.\n",
    "**7: 3 руб.\n",
    "*00: 2 руб.\n",
    "**0: 1 руб.\n",
    "* – любая цифраДополнительное задание повышенной сложности. \n",
    "\n",
    "Теоретически рассчитать средний выигрыш (проигрыш) и сравнить с результатами моделировани"
   ]
  },
  {
   "cell_type": "markdown",
   "metadata": {},
   "source": [
    "метод монте-карло"
   ]
  },
  {
   "cell_type": "code",
   "execution_count": 2,
   "metadata": {},
   "outputs": [],
   "source": [
    "win = [{'777' : 200}, {'999' : 100}, {'555' : 50},\n",
    " {'333' : 15}, {'111' : 10}, {'77' : 5}, {'7' : 3}, {'00' : 2}, {'0' : 1}]"
   ]
  },
  {
   "cell_type": "code",
   "execution_count": 18,
   "metadata": {},
   "outputs": [
    {
     "ename": "KeyboardInterrupt",
     "evalue": "",
     "output_type": "error",
     "traceback": [
      "\u001b[1;31m---------------------------------------------------------------------------\u001b[0m",
      "\u001b[1;31mKeyboardInterrupt\u001b[0m                         Traceback (most recent call last)",
      "\u001b[1;32m<ipython-input-18-ee52dad97166>\u001b[0m in \u001b[0;36m<module>\u001b[1;34m\u001b[0m\n\u001b[0;32m      3\u001b[0m \u001b[0mwin_games_values\u001b[0m \u001b[1;33m=\u001b[0m \u001b[1;36m0\u001b[0m\u001b[1;33m\u001b[0m\u001b[1;33m\u001b[0m\u001b[0m\n\u001b[0;32m      4\u001b[0m \u001b[1;32mfor\u001b[0m \u001b[0mi\u001b[0m \u001b[1;32min\u001b[0m \u001b[0mrange\u001b[0m\u001b[1;33m(\u001b[0m\u001b[0mgames\u001b[0m\u001b[1;33m)\u001b[0m\u001b[1;33m:\u001b[0m\u001b[1;33m\u001b[0m\u001b[1;33m\u001b[0m\u001b[0m\n\u001b[1;32m----> 5\u001b[1;33m     \u001b[0mcombination\u001b[0m \u001b[1;33m=\u001b[0m  \u001b[0mstr\u001b[0m\u001b[1;33m(\u001b[0m\u001b[0mnp\u001b[0m\u001b[1;33m.\u001b[0m\u001b[0mrandom\u001b[0m\u001b[1;33m.\u001b[0m\u001b[0mrandint\u001b[0m\u001b[1;33m(\u001b[0m\u001b[1;36m0\u001b[0m\u001b[1;33m,\u001b[0m \u001b[1;36m1000\u001b[0m\u001b[1;33m)\u001b[0m\u001b[1;33m)\u001b[0m\u001b[1;33m\u001b[0m\u001b[1;33m\u001b[0m\u001b[0m\n\u001b[0m\u001b[0;32m      6\u001b[0m     \u001b[1;32mfor\u001b[0m \u001b[0mj\u001b[0m \u001b[1;32min\u001b[0m \u001b[0mwin\u001b[0m\u001b[1;33m:\u001b[0m\u001b[1;33m\u001b[0m\u001b[1;33m\u001b[0m\u001b[0m\n\u001b[0;32m      7\u001b[0m         \u001b[1;32mfor\u001b[0m \u001b[0mk\u001b[0m \u001b[1;32min\u001b[0m \u001b[0mj\u001b[0m\u001b[1;33m:\u001b[0m\u001b[1;33m\u001b[0m\u001b[1;33m\u001b[0m\u001b[0m\n",
      "\u001b[1;31mKeyboardInterrupt\u001b[0m: "
     ]
    }
   ],
   "source": [
    "games = 10000000\n",
    "win_games = 0\n",
    "win_games_values = 0\n",
    "for i in range(games):\n",
    "    combination =  str(np.random.randint(0, 1000))\n",
    "    for j in win:\n",
    "        for k in j:\n",
    "            if k == combination:\n",
    "                win_games += 1\n",
    "                win_games_values += j[k]\n",
    "            elif k == combination[1:]:\n",
    "                win_games += 1\n",
    "                win_games_values += j[k]\n",
    "            elif k == combination[-1]:\n",
    "                win_games += 1\n",
    "                win_games_values += j[k]\n",
    "            else:\n",
    "                continue\n",
    "print(f'вероятность выигрыша:{win_games/games}\\nсредний доход за игру:{(win_games_values-games)/games:.2f}руб.')\n",
    "if (win_games_values-games)/games > 1:\n",
    "    print('игра выгодна')\n",
    "else:\n",
    "    print('игра не выгодна')"
   ]
  },
  {
   "cell_type": "markdown",
   "metadata": {},
   "source": [
    "теоретическая вероятность"
   ]
  },
  {
   "cell_type": "code",
   "execution_count": 12,
   "metadata": {},
   "outputs": [],
   "source": [
    "combinations = ['777', '999', '555', '333', '111', '77', '7', '00', '0']\n",
    "probabilities = [1/1000, 1/1000, 1/1000, 1/1000, 1/1000, (10-1)/1000, (100-1-9)/1000, 1/100, (10-1)/100]\n",
    "gains = [200, 100, 50, 15, 10, 5, 3, 2, 1]"
   ]
  },
  {
   "cell_type": "code",
   "execution_count": 15,
   "metadata": {},
   "outputs": [
    {
     "name": "stdout",
     "output_type": "stream",
     "text": [
      "-0.19999999999999996\n"
     ]
    }
   ],
   "source": [
    "p = 0\n",
    "for i, j  in zip(gains, probabilities):\n",
    "    p += j*i\n",
    "print(p-1)"
   ]
  },
  {
   "cell_type": "code",
   "execution_count": null,
   "metadata": {},
   "outputs": [],
   "source": []
  }
 ],
 "metadata": {
  "kernelspec": {
   "display_name": "Python 3",
   "language": "python",
   "name": "python3"
  },
  "language_info": {
   "codemirror_mode": {
    "name": "ipython",
    "version": 3
   },
   "file_extension": ".py",
   "mimetype": "text/x-python",
   "name": "python",
   "nbconvert_exporter": "python",
   "pygments_lexer": "ipython3",
   "version": "3.7.9"
  }
 },
 "nbformat": 4,
 "nbformat_minor": 4
}
