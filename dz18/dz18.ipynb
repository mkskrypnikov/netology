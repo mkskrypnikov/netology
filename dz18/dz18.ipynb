{
 "cells": [
  {
   "cell_type": "code",
   "execution_count": 154,
   "metadata": {},
   "outputs": [],
   "source": [
    "import numpy as np"
   ]
  },
  {
   "cell_type": "markdown",
   "metadata": {},
   "source": [
    "Смоделировать игру против лотерейного автомата типа \"777\". Игрок платит 1 руб., \n",
    "после чего выпадает случайное целое число, равномерно распределенное от 0 до 999. \n",
    "При некоторых значениях числа игрок получает выигрыш (см. справа)\n",
    "\n",
    "●Выгодна ли игра игроку? \n",
    "\n",
    "●Сколько в среднем приобретает или теряет игрок за одну игру?\n",
    "\n",
    "777: 200 руб.\n",
    "999: 100 руб.\n",
    "555: 50 руб.\n",
    "333: 15 руб.\n",
    "111: 10 руб.\n",
    "*77: 5 руб.\n",
    "**7: 3 руб.\n",
    "*00: 2 руб.\n",
    "**0: 1 руб.\n",
    "* – любая цифраДополнительное задание повышенной сложности. \n",
    "\n",
    "Теоретически рассчитать средний выигрыш (проигрыш) и сравнить с результатами моделировани"
   ]
  },
  {
   "cell_type": "markdown",
   "metadata": {},
   "source": [
    "метод монте-карло"
   ]
  },
  {
   "cell_type": "code",
   "execution_count": 168,
   "metadata": {},
   "outputs": [],
   "source": [
    "vin = [{'777' : 200}, {'999' : 100}, {'555' : 50},\n",
    " {'333' : 15}, {'111' : 10}, {'77' : 5}, {'7' : 3}, {'00' : 2}, {'0' : 1}]"
   ]
  },
  {
   "cell_type": "code",
   "execution_count": 345,
   "metadata": {},
   "outputs": [
    {
     "name": "stdout",
     "output_type": "stream",
     "text": [
      "вероятность выигрыша:0.223778\n",
      "средний доход за игру:-0.16руб.\n",
      "игра не выгодна\n"
     ]
    }
   ],
   "source": [
    "games = 1000000\n",
    "vin_games = 0\n",
    "vin_games_values = 0\n",
    "for i in range(games):\n",
    "    combination =  str(np.random.randint(0, 1000))\n",
    "    for j in vin:\n",
    "        for k in j:\n",
    "            if k == combination:\n",
    "                vin_games += 1\n",
    "                vin_games_values += j[k]\n",
    "            elif k == combination[1:]:\n",
    "                vin_games += 1\n",
    "                vin_games_values += j[k]\n",
    "            elif k == combination[-1]:\n",
    "                vin_games += 1\n",
    "                vin_games_values += j[k]\n",
    "print(f'вероятность выигрыша:{vin_games/games}\\nсредний доход за игру:{(vin_games_values-games)/games:.2f}руб.')\n",
    "if (vin_games_values-games)/games > 1:\n",
    "    print('игра выгодна')\n",
    "else:\n",
    "    print('игра не выгодна')"
   ]
  },
  {
   "cell_type": "markdown",
   "metadata": {},
   "source": [
    "теоретическая вероятность"
   ]
  },
  {
   "cell_type": "code",
   "execution_count": 342,
   "metadata": {},
   "outputs": [
    {
     "data": {
      "text/plain": [
       "0.204"
      ]
     },
     "execution_count": 342,
     "metadata": {},
     "output_type": "execute_result"
    }
   ],
   "source": [
    "H1 = 0.001 #выпадение 777\n",
    "H2 = 0.001 #выпадение 999\n",
    "H3 = 0.001 #выпадение 555\n",
    "H4 = 0.001 #выпадение 333\n",
    "H5 = 0.001 #выпадение 111\n",
    "H6 = 0.009 #выпадение *77\n",
    "H7 = 0.09 #выпадение **7\n",
    "H8 = 0.01 #выпадение *00\n",
    "H9 = 0.09 #выпадение **0\n",
    "p = H1+H2+H3+H4+H5+H6+H7+H8+H9"
   ]
  }
 ],
 "metadata": {
  "kernelspec": {
   "display_name": "Python 3",
   "language": "python",
   "name": "python3"
  },
  "language_info": {
   "codemirror_mode": {
    "name": "ipython",
    "version": 3
   },
   "file_extension": ".py",
   "mimetype": "text/x-python",
   "name": "python",
   "nbconvert_exporter": "python",
   "pygments_lexer": "ipython3",
   "version": "3.7.6"
  }
 },
 "nbformat": 4,
 "nbformat_minor": 4
}
