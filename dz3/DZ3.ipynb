{
 "cells": [
  {
   "cell_type": "markdown",
   "metadata": {},
   "source": [
    "# Задание 1"
   ]
  },
  {
   "cell_type": "markdown",
   "metadata": {},
   "source": [
    "Дана переменная, в которой хранится слово из латинских букв. Напишите код, который выводит на экран:\n",
    "\n",
    "среднюю букву, если число букв в слове нечетное;\n",
    "две средних буквы, если число букв четное.\n",
    "Примеры работы программы:\n",
    "\n",
    "word = 'test'\n",
    "Результат:\n",
    "es\n",
    "\n",
    "word = 'testing'\n",
    "Результат:\n",
    "t"
   ]
  },
  {
   "cell_type": "code",
   "execution_count": 2,
   "metadata": {},
   "outputs": [
    {
     "name": "stdout",
     "output_type": "stream",
     "text": [
      "es\n"
     ]
    }
   ],
   "source": [
    "word = 'test'\n",
    "x = int(len(word) / 2)\n",
    "if len(word) % 2 == 0:\n",
    "    print(word[x - 1:x + 1])\n",
    "else:\n",
    "    print(word[x])\n",
    "    "
   ]
  },
  {
   "cell_type": "markdown",
   "metadata": {},
   "source": [
    "# Задание 2"
   ]
  },
  {
   "cell_type": "markdown",
   "metadata": {},
   "source": [
    "Напишите программу, которая последовательно запрашивает у пользователя числа (по одному за раз) и после первого нуля выводит сумму всех ранее введенных чисел.\n",
    "\n",
    "Примеры работы программы:\n",
    "\n",
    "Введите число:  \n",
    "1\n",
    "\n",
    "Введите число:  \n",
    "4\n",
    "\n",
    "Введите число:  \n",
    "6\n",
    "\n",
    "Введите число:  \n",
    "0\n",
    "Результат:\n",
    "11\n",
    "\n",
    "Введите число:  \n",
    "0\n",
    "Результат:\n",
    "0\n",
    "\n"
   ]
  },
  {
   "cell_type": "code",
   "execution_count": 11,
   "metadata": {},
   "outputs": [
    {
     "name": "stdout",
     "output_type": "stream",
     "text": [
      "введите число: 1\n",
      "введите число: 2\n",
      "введите число: 3\n",
      "введите число: 0\n",
      "Результат: 6\n"
     ]
    }
   ],
   "source": [
    "import numpy as np\n",
    "array_of_number = np.array([])\n",
    "x = 1\n",
    "while x != 0:\n",
    "    y = int(input(\"введите число: \"))\n",
    "    array_of_number = np.append(array_of_number, y)\n",
    "    x = y\n",
    "    \n",
    "print(f'Результат: {np.sum(array_of_number):.0f}')"
   ]
  },
  {
   "cell_type": "code",
   "execution_count": 1,
   "metadata": {},
   "outputs": [
    {
     "name": "stdout",
     "output_type": "stream",
     "text": [
      "введите число: 0\n",
      "Результат: 0\n"
     ]
    }
   ],
   "source": [
    "array_of_number_1 = []\n",
    "x = 1\n",
    "while x != 0:\n",
    "    y = int(input(\"введите число: \"))\n",
    "    array_of_number_1.append(y)\n",
    "    x = y\n",
    "print(f'Результат: {sum(array_of_number_1):.0f}')"
   ]
  },
  {
   "cell_type": "markdown",
   "metadata": {},
   "source": [
    " # Задание 3"
   ]
  },
  {
   "cell_type": "markdown",
   "metadata": {},
   "source": [
    "Мы делаем MVP dating-сервиса, и у нас есть список парней и девушек.\n",
    "Выдвигаем гипотезу: лучшие рекомендации мы получим, если просто отсортируем имена по алфавиту и познакомим людей с одинаковыми индексами после сортировки! Но мы не будем никого знакомить, если кто-то может остаться без пары:\n",
    "\n",
    "Примеры работы программы:\n",
    "\n",
    "boys = ['Peter', 'Alex', 'John', 'Arthur', 'Richard']\n",
    "girls = ['Kate', 'Liza', 'Kira', 'Emma', 'Trisha']\n",
    "Результат:\n",
    "\n",
    "Идеальные пары:  \n",
    "Alex и Emma  \n",
    "Arthur и Kate  \n",
    "John и Kira  \n",
    "Peter и Liza  \n",
    "Richard и Trisha\n",
    "boys = ['Peter', 'Alex', 'John', 'Arthur', 'Richard', 'Michael']\n",
    "girls = ['Kate', 'Liza', 'Kira', 'Emma', 'Trisha']\n",
    "Результат:\n",
    "Внимание, кто-то может остаться без пары!\n",
    "\n"
   ]
  },
  {
   "cell_type": "code",
   "execution_count": 28,
   "metadata": {},
   "outputs": [
    {
     "name": "stdout",
     "output_type": "stream",
     "text": [
      "Идеальные пары:\n",
      "Alex и Emma\n",
      "Arthur и Kate\n",
      "John и Kira\n",
      "Peter и Liza\n",
      "Richard и Trisha\n"
     ]
    }
   ],
   "source": [
    "boys = ['Peter', 'Alex', 'John', 'Arthur', 'Richard']\n",
    "girls = ['Kate', 'Liza', 'Kira', 'Emma', 'Trisha']\n",
    "if len(boys) == len(girls):\n",
    "    boys.sort()\n",
    "    girls.sort()\n",
    "    print('Идеальные пары:')\n",
    "    i = 0\n",
    "    for element in boys:\n",
    "        print(f'{element} и {girls[i]}')\n",
    "        i += 1\n",
    "else:\n",
    "    print('Внимание, кто-то может остаться без пары')"
   ]
  },
  {
   "cell_type": "markdown",
   "metadata": {},
   "source": [
    "# Задание 4"
   ]
  },
  {
   "cell_type": "markdown",
   "metadata": {},
   "source": [
    "У нас есть список, содержащий информацию о среднедневной температуре в Фаренгейтах за произвольный период по странам (структура данных в примере). Необходимо написать код, который рассчитает среднюю температуру за период в Цельсиях(!) для каждой страны.\n",
    "\n",
    "Пример работы программы:\n",
    "\n",
    "countries_temperature = [\n",
    "    ['Thailand', [75.2, 77, 78.8, 73.4, 68, 75.2, 77]],\n",
    "    ['Germany', [57.2, 55.4, 59, 59, 53.6]],\n",
    "    ['Russia', [35.6, 37.4, 39.2, 41, 42.8, 39.2, 35.6]],\n",
    "    ['Poland', [50, 50, 53.6, 57.2, 55.4, 55.4]]\n",
    "]\n",
    "Результат:\n",
    "\n",
    "Средняя температура в странах:\n",
    "Thailand  -  23.9 С\n",
    "Germany  -  13.8 С\n",
    "Russia  -  3.7 С\n",
    "Poland  -  12.0 С"
   ]
  },
  {
   "cell_type": "code",
   "execution_count": 7,
   "metadata": {},
   "outputs": [
    {
     "name": "stdout",
     "output_type": "stream",
     "text": [
      "Средняя температура в странах:\n",
      "Thailand - 23.9 С\n",
      "Germany - 13.8 С\n",
      "Russia - 3.7 С\n",
      "Poland - 12.0 С\n"
     ]
    }
   ],
   "source": [
    "countries_temperature = [ ['Thailand', [75.2, 77, 78.8, 73.4, 68, 75.2, 77]], \n",
    "                         ['Germany', [57.2, 55.4, 59, 59, 53.6]], \n",
    "                         ['Russia', [35.6, 37.4, 39.2, 41, 42.8, 39.2, 35.6]], \n",
    "                         ['Poland', [50, 50, 53.6, 57.2, 55.4, 55.4]] ]\n",
    "x = 0\n",
    "print('Средняя температура в странах:')\n",
    "while x <= len(countries_temperature)-1:\n",
    "    y = 0\n",
    "    while y <= len(countries_temperature[x][1])-1:\n",
    "        countries_temperature[x][1][y] = (countries_temperature[x][1][y] - 32) / 1.8\n",
    "        y += 1\n",
    "    print(f'{countries_temperature[x][0]} - {sum(countries_temperature[x][1]) / len(countries_temperature[x][1]):.1f} С')\n",
    "    x += 1"
   ]
  },
  {
   "cell_type": "markdown",
   "metadata": {},
   "source": [
    "# Задание 5 (необязательное)"
   ]
  },
  {
   "cell_type": "markdown",
   "metadata": {},
   "source": [
    "Дан поток логов по количеству просмотренных страниц для каждого пользователя. Вам необходимо написать алгоритм, который считает среднее значение просмотров на пользователя. Т. е. надо посчитать отношение суммы всех просмотров к количеству уникальных пользователей.\n",
    "\n",
    "Примеры работы программы:\n",
    "\n",
    "stream = [\n",
    "    '2018-01-01,user1,3',\n",
    "    '2018-01-07,user1,4',\n",
    "    '2018-03-29,user1,1',\n",
    "    '2018-04-04,user1,13',\n",
    "    '2018-01-05,user2,7',\n",
    "    '2018-06-14,user3,4',\n",
    "    '2018-07-02,user3,10',\n",
    "    '2018-03-21,user4,19',\n",
    "    '2018-03-22,user4,4',\n",
    "    '2018-04-22,user4,8',\n",
    "    '2018-05-03,user4,9',\n",
    "    '2018-05-11,user4,11',\n",
    "]\n",
    "Результат:\n",
    "Среднее количество просмотров на уникального пользователя: 23.25\n",
    "\n",
    "stream = [\n",
    "    '2018-01-01,user100,150',\n",
    "    '2018-01-07,user99,205',\n",
    "    '2018-03-29,user1001,81'\n",
    "]\n",
    "Результат:\n",
    "Среднее количество просмотров на уникального пользователя: 145.33"
   ]
  },
  {
   "cell_type": "code",
   "execution_count": 35,
   "metadata": {},
   "outputs": [
    {
     "name": "stdout",
     "output_type": "stream",
     "text": [
      "23.25\n"
     ]
    }
   ],
   "source": [
    "stream = [ '2018-01-01,user1,3', \n",
    "          '2018-01-07,user1,4', \n",
    "          '2018-03-29,user1,1', \n",
    "          '2018-04-04,user1,13', \n",
    "          '2018-01-05,user2,7', \n",
    "          '2018-06-14,user3,4', \n",
    "          '2018-07-02,user3,10', \n",
    "          '2018-03-21,user4,19', \n",
    "          '2018-03-22,user4,4', \n",
    "          '2018-04-22,user4,8', \n",
    "          '2018-05-03,user4,9', \n",
    "          '2018-05-11,user4,11', ]\n",
    "x = 0\n",
    "y = 0\n",
    "\n",
    "directory = []\n",
    "for element in stream:\n",
    "    y = y + int(element.split(',')[2])\n",
    "    if element.split(',')[1] not in directory:\n",
    "        directory.append(element.split(',')[1])\n",
    "    else:\n",
    "        continue\n",
    "print(f'{y / len(directory):.2f}')    \n",
    "    "
   ]
  },
  {
   "cell_type": "markdown",
   "metadata": {},
   "source": [
    "# Задание 6 (необязательное)"
   ]
  },
  {
   "cell_type": "code",
   "execution_count": null,
   "metadata": {},
   "outputs": [],
   "source": [
    "Необходимо у пользователя запрашивать набор чисел разделенных пробелом. \n",
    "В результате должны выводиться числа, которые повторяются в вводе более одного раза.\n",
    "\n",
    "Примеры работы программы:\n",
    "\n",
    "Введите числа:\n",
    "4 8 0 3 4 2 0 3\n",
    "Результат:\n",
    "0 3 4\n",
    "\n",
    "Введите числа:\n",
    "1 1 2 2 3 3\n",
    "Результат:\n",
    "1 2 3\n",
    "\n",
    "Введите числа:\n",
    "1 1 1 1 1 2 2 2\n",
    "Результат:\n",
    "1 2"
   ]
  },
  {
   "cell_type": "code",
   "execution_count": 31,
   "metadata": {},
   "outputs": [
    {
     "name": "stdout",
     "output_type": "stream",
     "text": [
      "введите числа через пробел1 1 1 1 2 2\n",
      "['1', '2']\n"
     ]
    }
   ],
   "source": [
    "x = input('введите числа через пробел: ').split(' ')\n",
    "y = 0\n",
    "directory = []\n",
    "while y <= len(x)-1:\n",
    "    if x[y] in x[y+1:] and x[y] not in directory:\n",
    "        directory.append(x[y])\n",
    "        y += 1\n",
    "    else:\n",
    "        y += 1\n",
    "directory.sort()\n",
    "print(directory)\n",
    "    "
   ]
  }
 ],
 "metadata": {
  "kernelspec": {
   "display_name": "Python 3",
   "language": "python",
   "name": "python3"
  },
  "language_info": {
   "codemirror_mode": {
    "name": "ipython",
    "version": 3
   },
   "file_extension": ".py",
   "mimetype": "text/x-python",
   "name": "python",
   "nbconvert_exporter": "python",
   "pygments_lexer": "ipython3",
   "version": "3.7.4"
  }
 },
 "nbformat": 4,
 "nbformat_minor": 4
}
