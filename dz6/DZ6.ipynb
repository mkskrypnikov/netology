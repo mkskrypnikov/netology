{
 "cells": [
  {
   "cell_type": "raw",
   "metadata": {},
   "source": [
    "Переведите содержимое файла purchase_log.txt в словарь purchases вида:\n",
    "{‘1840e0b9d4’: ‘Продукты’, …}\n",
    "\n",
    "Для каждого user_id в файле visit_log.csv определите третий столбец с категорией покупки (если покупка была, сам файл visit_log.csv изменять не надо). Запишите в файл funnel.csv визиты из файла visit_log.csv, в которых были покупки с указанием категории.\n",
    "\n",
    "Учтите условия на данные:\n",
    "содержимое purchase_log.txt помещается в оперативную память компьютера\n",
    "содержимое visit_log.csv - нет; используйте только построчную обработку этого файла"
   ]
  },
  {
   "cell_type": "code",
   "execution_count": 1,
   "metadata": {},
   "outputs": [],
   "source": [
    "import json"
   ]
  },
  {
   "cell_type": "code",
   "execution_count": 2,
   "metadata": {},
   "outputs": [],
   "source": [
    "purchase = {}\n",
    "f_purchase = open('purchase_log.txt', encoding='utf-8')\n",
    "content = f_purchase.readlines()\n",
    "for i in content[1:]:\n",
    "    x = json.loads(i)\n",
    "    purchase[x['user_id']] = x['category']"
   ]
  },
  {
   "cell_type": "code",
   "execution_count": 3,
   "metadata": {},
   "outputs": [],
   "source": [
    "#в файле funnel только пользователи, совершившие покупку\n",
    "with open('visit_log.csv') as f_visit:\n",
    "    with open('funnel.csv', 'a') as f_funnel:\n",
    "        f_funnel.write(f_visit.readline().strip() + ',Категория \\n')\n",
    "        for i in f_visit:\n",
    "            try:\n",
    "                y = i.strip().split(',')\n",
    "                f_funnel.write(y[0] + ',' + y[1] + ',' + purchase[y[0]] + '\\n')\n",
    "            except:\n",
    "                continue        "
   ]
  },
  {
   "cell_type": "code",
   "execution_count": 4,
   "metadata": {},
   "outputs": [],
   "source": [
    "#в файле funnel1 все пользователи, в т.ч. не совершившие покупку\n",
    "with open('visit_log.csv') as f_visit:\n",
    "    with open('funnel1.csv', 'a') as f_funnel1:\n",
    "        f_funnel1.write(f_visit.readline().strip() + ',Категория \\n')\n",
    "        for i in f_visit:\n",
    "            try:\n",
    "                y = i.strip().split(',')\n",
    "                f_funnel1.write(y[0] + ',' + y[1] + ',' + purchase[y[0]] + '\\n')\n",
    "            except:\n",
    "                f_funnel1.write(y[0] + ',' + y[1] + ', \\n')"
   ]
  }
 ],
 "metadata": {
  "kernelspec": {
   "display_name": "Python 3",
   "language": "python",
   "name": "python3"
  },
  "language_info": {
   "codemirror_mode": {
    "name": "ipython",
    "version": 3
   },
   "file_extension": ".py",
   "mimetype": "text/x-python",
   "name": "python",
   "nbconvert_exporter": "python",
   "pygments_lexer": "ipython3",
   "version": "3.7.6"
  }
 },
 "nbformat": 4,
 "nbformat_minor": 4
}
